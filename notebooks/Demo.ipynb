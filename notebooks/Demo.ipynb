{
 "cells": [
  {
   "cell_type": "code",
   "execution_count": 1,
   "metadata": {},
   "outputs": [],
   "source": [
    "import datetime\n",
    "from sqlalchemy import Boolean, Column, create_engine, DateTime, ForeignKey, Integer, String\n",
    "from sqlalchemy.ext.declarative import declarative_base\n",
    "from sqlalchemy.orm import relationship, sessionmaker"
   ]
  },
  {
   "cell_type": "code",
   "execution_count": 2,
   "metadata": {},
   "outputs": [],
   "source": [
    "engine = create_engine('sqlite:///:memory:', echo=True)\n",
    "Base = declarative_base()"
   ]
  },
  {
   "cell_type": "code",
   "execution_count": 3,
   "metadata": {},
   "outputs": [],
   "source": [
    "Session = sessionmaker(bind=engine)"
   ]
  },
  {
   "cell_type": "code",
   "execution_count": 4,
   "metadata": {},
   "outputs": [],
   "source": [
    "session = Session()"
   ]
  },
  {
   "cell_type": "code",
   "execution_count": 5,
   "metadata": {},
   "outputs": [],
   "source": [
    "class Venue(Base):\n",
    "    \"\"\"A python representation of the venue table.\"\"\"\n",
    "    \n",
    "    __tablename__ = 'venue'\n",
    "    id = Column(Integer, primary_key=True, autoincrement=True)\n",
    "    address_id = Column(Integer, ForeignKey('address.id'))\n",
    "    name = Column(String)\n",
    "    closed = Column(Boolean, default=False)\n",
    "    inserted = Column(DateTime)\n",
    "    \n",
    "    address = relationship(\"Address\", back_populates=\"venue\")\n",
    "#     ratings = relationship(\"Rating\")"
   ]
  },
  {
   "cell_type": "code",
   "execution_count": 6,
   "metadata": {},
   "outputs": [],
   "source": [
    "class Address(Base):\n",
    "    \"\"\"A python representation of the venue street address.\"\"\"\n",
    "    \n",
    "    __tablename__ = 'address'\n",
    "    id = Column(Integer, primary_key=True, autoincrement=True)\n",
    "    street1 = Column(String)\n",
    "    street2 = Column(String)\n",
    "    city = Column(String)\n",
    "    state = Column(String(2))\n",
    "    zip = Column(String)\n",
    "    inserted = Column(DateTime)\n",
    "    \n",
    "    venue = relationship(\"Venue\", back_populates=\"address\")"
   ]
  },
  {
   "cell_type": "code",
   "execution_count": 57,
   "metadata": {},
   "outputs": [],
   "source": [
    "class Ratings(Base):\n",
    "    \"\"\"A python representation of the rating table.\"\"\"\n",
    "    \n",
    "    __tablename__ = 'ratings'\n",
    "    id = Column(Integer, primary_key=True, autoincrement=True)\n",
    "#     venue_id = Column(Integer, ForeignKey('venue.id'))\n",
    "    rating = Column(Integer)\n",
    "    inserted = Column(DateTime)\n",
    "    \n",
    "#     venue = relationship(\"Venue\")"
   ]
  },
  {
   "cell_type": "code",
   "execution_count": 7,
   "metadata": {},
   "outputs": [
    {
     "name": "stdout",
     "output_type": "stream",
     "text": [
      "2019-06-30 01:25:46,278 INFO sqlalchemy.engine.base.Engine SELECT CAST('test plain returns' AS VARCHAR(60)) AS anon_1\n",
      "2019-06-30 01:25:46,283 INFO sqlalchemy.engine.base.Engine ()\n",
      "2019-06-30 01:25:46,302 INFO sqlalchemy.engine.base.Engine SELECT CAST('test unicode returns' AS VARCHAR(60)) AS anon_1\n",
      "2019-06-30 01:25:46,303 INFO sqlalchemy.engine.base.Engine ()\n",
      "2019-06-30 01:25:46,306 INFO sqlalchemy.engine.base.Engine PRAGMA table_info(\"venue\")\n",
      "2019-06-30 01:25:46,307 INFO sqlalchemy.engine.base.Engine ()\n",
      "2019-06-30 01:25:46,314 INFO sqlalchemy.engine.base.Engine PRAGMA table_info(\"address\")\n",
      "2019-06-30 01:25:46,318 INFO sqlalchemy.engine.base.Engine ()\n",
      "2019-06-30 01:25:46,324 INFO sqlalchemy.engine.base.Engine \n",
      "CREATE TABLE address (\n",
      "\tid INTEGER NOT NULL, \n",
      "\tstreet1 VARCHAR, \n",
      "\tstreet2 VARCHAR, \n",
      "\tcity VARCHAR, \n",
      "\tstate VARCHAR(2), \n",
      "\tzip VARCHAR, \n",
      "\tinserted DATETIME, \n",
      "\tPRIMARY KEY (id)\n",
      ")\n",
      "\n",
      "\n",
      "2019-06-30 01:25:46,326 INFO sqlalchemy.engine.base.Engine ()\n",
      "2019-06-30 01:25:46,331 INFO sqlalchemy.engine.base.Engine COMMIT\n",
      "2019-06-30 01:25:46,336 INFO sqlalchemy.engine.base.Engine \n",
      "CREATE TABLE venue (\n",
      "\tid INTEGER NOT NULL, \n",
      "\taddress_id INTEGER, \n",
      "\tname VARCHAR, \n",
      "\tclosed BOOLEAN, \n",
      "\tinserted DATETIME, \n",
      "\tPRIMARY KEY (id), \n",
      "\tFOREIGN KEY(address_id) REFERENCES address (id), \n",
      "\tCHECK (closed IN (0, 1))\n",
      ")\n",
      "\n",
      "\n",
      "2019-06-30 01:25:46,339 INFO sqlalchemy.engine.base.Engine ()\n",
      "2019-06-30 01:25:46,340 INFO sqlalchemy.engine.base.Engine COMMIT\n"
     ]
    }
   ],
   "source": [
    "Base.metadata.create_all(engine)"
   ]
  },
  {
   "cell_type": "code",
   "execution_count": 8,
   "metadata": {
    "scrolled": false
   },
   "outputs": [
    {
     "name": "stdout",
     "output_type": "stream",
     "text": [
      "2019-06-30 01:28:05,891 INFO sqlalchemy.engine.base.Engine BEGIN (implicit)\n",
      "2019-06-30 01:28:05,896 INFO sqlalchemy.engine.base.Engine INSERT INTO address (street1, street2, city, state, zip, inserted) VALUES (?, ?, ?, ?, ?, ?)\n",
      "2019-06-30 01:28:05,901 INFO sqlalchemy.engine.base.Engine ('214 E 6th St', None, 'Austin', 'TX', '78701', '2019-06-30 01:28:05.883993')\n",
      "2019-06-30 01:28:05,902 INFO sqlalchemy.engine.base.Engine INSERT INTO address (street1, street2, city, state, zip, inserted) VALUES (?, ?, ?, ?, ?, ?)\n",
      "2019-06-30 01:28:05,905 INFO sqlalchemy.engine.base.Engine ('611 E 7th St', None, 'Austin', 'TX', '78701', '2019-06-30 01:28:05.883993')\n",
      "2019-06-30 01:28:05,907 INFO sqlalchemy.engine.base.Engine INSERT INTO address (street1, street2, city, state, zip, inserted) VALUES (?, ?, ?, ?, ?, ?)\n",
      "2019-06-30 01:28:05,908 INFO sqlalchemy.engine.base.Engine ('606 E 7th St', None, 'Austin', 'TX', '78701', '2019-06-30 01:28:05.883993')\n",
      "2019-06-30 01:28:05,910 INFO sqlalchemy.engine.base.Engine INSERT INTO address (street1, street2, city, state, zip, inserted) VALUES (?, ?, ?, ?, ?, ?)\n",
      "2019-06-30 01:28:05,911 INFO sqlalchemy.engine.base.Engine ('705 Red River St', None, 'Austin', 'TX', '78701', '2019-06-30 01:28:05.883993')\n",
      "2019-06-30 01:28:05,912 INFO sqlalchemy.engine.base.Engine INSERT INTO address (street1, street2, city, state, zip, inserted) VALUES (?, ?, ?, ?, ?, ?)\n",
      "2019-06-30 01:28:05,913 INFO sqlalchemy.engine.base.Engine ('801 Red River St', None, 'Austin', 'TX', '78701', '2019-06-30 01:28:05.883993')\n",
      "2019-06-30 01:28:05,914 INFO sqlalchemy.engine.base.Engine INSERT INTO address (street1, street2, city, state, zip, inserted) VALUES (?, ?, ?, ?, ?, ?)\n",
      "2019-06-30 01:28:05,915 INFO sqlalchemy.engine.base.Engine ('900 Red River St', None, 'Austin', 'TX', '78701', '2019-06-30 01:28:05.883993')\n",
      "2019-06-30 01:28:05,916 INFO sqlalchemy.engine.base.Engine INSERT INTO address (street1, street2, city, state, zip, inserted) VALUES (?, ?, ?, ?, ?, ?)\n",
      "2019-06-30 01:28:05,917 INFO sqlalchemy.engine.base.Engine ('912 Red River St', None, 'Austin', 'TX', '78701', '2019-06-30 01:28:05.883993')\n",
      "2019-06-30 01:28:05,919 INFO sqlalchemy.engine.base.Engine INSERT INTO address (street1, street2, city, state, zip, inserted) VALUES (?, ?, ?, ?, ?, ?)\n",
      "2019-06-30 01:28:05,920 INFO sqlalchemy.engine.base.Engine ('305 E 5th St', None, 'Austin', 'TX', '78701', '2019-06-30 01:28:05.883993')\n",
      "2019-06-30 01:28:05,924 INFO sqlalchemy.engine.base.Engine INSERT INTO address (street1, street2, city, state, zip, inserted) VALUES (?, ?, ?, ?, ?, ?)\n",
      "2019-06-30 01:28:05,930 INFO sqlalchemy.engine.base.Engine ('612 W 4th St', None, 'Austin', 'TX', '78701', '2019-06-30 01:28:05.883993')\n",
      "2019-06-30 01:28:05,931 INFO sqlalchemy.engine.base.Engine INSERT INTO address (street1, street2, city, state, zip, inserted) VALUES (?, ?, ?, ?, ?, ?)\n",
      "2019-06-30 01:28:05,932 INFO sqlalchemy.engine.base.Engine ('1315 S Congress Ave', None, 'Austin', 'TX', '78704', '2019-06-30 01:28:05.883993')\n",
      "2019-06-30 01:28:05,934 INFO sqlalchemy.engine.base.Engine INSERT INTO address (street1, street2, city, state, zip, inserted) VALUES (?, ?, ?, ?, ?, ?)\n",
      "2019-06-30 01:28:05,936 INFO sqlalchemy.engine.base.Engine ('2015 E Riverside Dr', None, 'Austin', 'TX', '78741', '2019-06-30 01:28:05.883993')\n",
      "2019-06-30 01:28:05,937 INFO sqlalchemy.engine.base.Engine INSERT INTO address (street1, street2, city, state, zip, inserted) VALUES (?, ?, ?, ?, ?, ?)\n",
      "2019-06-30 01:28:05,939 INFO sqlalchemy.engine.base.Engine ('603 Red River St', None, 'Austin', 'TX', '78701', '2019-06-30 01:28:05.883993')\n",
      "2019-06-30 01:28:05,940 INFO sqlalchemy.engine.base.Engine INSERT INTO address (street1, street2, city, state, zip, inserted) VALUES (?, ?, ?, ?, ?, ?)\n",
      "2019-06-30 01:28:05,942 INFO sqlalchemy.engine.base.Engine ('405 W 2nd St', None, 'Austin', 'TX', '78701', '2019-06-30 01:28:05.883993')\n",
      "2019-06-30 01:28:05,945 INFO sqlalchemy.engine.base.Engine INSERT INTO address (street1, street2, city, state, zip, inserted) VALUES (?, ?, ?, ?, ?, ?)\n",
      "2019-06-30 01:28:05,949 INFO sqlalchemy.engine.base.Engine ('305 W 5th St', None, 'Austin', 'TX', '78701', '2019-06-30 01:28:05.883993')\n",
      "2019-06-30 01:28:05,952 INFO sqlalchemy.engine.base.Engine COMMIT\n"
     ]
    }
   ],
   "source": [
    "now = datetime.datetime.now()\n",
    "addresses = [\n",
    "    Address(street1='214 E 6th St', city='Austin', state='TX', zip='78701', inserted=now), # Parish\n",
    "    Address(street1='611 E 7th St', city='Austin', state='TX', zip='78701', inserted=now), # Barracuda\n",
    "    Address(street1='606 E 7th St', city='Austin', state='TX', zip='78701', inserted=now), # Empire\n",
    "    Address(street1='705 Red River St', city='Austin', state='TX', zip='78701', inserted=now), # Elysium\n",
    "    Address(street1='801 Red River St', city='Austin', state='TX', zip='78701', inserted=now), # Stubb's\n",
    "    Address(street1='900 Red River St', city='Austin', state='TX', zip='78701', inserted=now), # Cheer Up\n",
    "    Address(street1='912 Red River St', city='Austin', state='TX', zip='78701', inserted=now), # Mohawk\n",
    "    Address(street1='305 E 5th St', city='Austin', state='TX', zip='78701', inserted=now), # Antones\n",
    "    Address(street1='612 W 4th St', city='Austin', state='TX', zip='78701', inserted=now), # La Zona\n",
    "    Address(street1='1315 S Congress Ave', city='Austin', state='TX', zip='78704', inserted=now), # Continental\n",
    "    Address(street1='2015 E Riverside Dr', city='Austin', state='TX', zip='78741', inserted=now), # Emo's\n",
    "    Address(street1='603 Red River St', city='Austin', state='TX', zip='78701', inserted=now), # Old Emo's\n",
    "    Address(street1='405 W 2nd St', city='Austin', state='TX', zip='78701', inserted=now), # Liberty Lunch\n",
    "    Address(street1='305 W 5th St', city='Austin', state='TX', zip='78701', inserted=now), # Old Antones\n",
    "]\n",
    "session.add_all(addresses)\n",
    "session.commit()"
   ]
  },
  {
   "cell_type": "code",
   "execution_count": 9,
   "metadata": {},
   "outputs": [
    {
     "name": "stdout",
     "output_type": "stream",
     "text": [
      "2019-06-30 01:28:12,690 INFO sqlalchemy.engine.base.Engine BEGIN (implicit)\n",
      "2019-06-30 01:28:12,696 INFO sqlalchemy.engine.base.Engine SELECT address.id AS address_id, address.street1 AS address_street1 \n",
      "FROM address\n",
      "2019-06-30 01:28:12,700 INFO sqlalchemy.engine.base.Engine ()\n"
     ]
    },
    {
     "data": {
      "text/plain": [
       "[(1, '214 E 6th St'),\n",
       " (2, '611 E 7th St'),\n",
       " (3, '606 E 7th St'),\n",
       " (4, '705 Red River St'),\n",
       " (5, '801 Red River St'),\n",
       " (6, '900 Red River St'),\n",
       " (7, '912 Red River St'),\n",
       " (8, '305 E 5th St'),\n",
       " (9, '612 W 4th St'),\n",
       " (10, '1315 S Congress Ave'),\n",
       " (11, '2015 E Riverside Dr'),\n",
       " (12, '603 Red River St'),\n",
       " (13, '405 W 2nd St'),\n",
       " (14, '305 W 5th St')]"
      ]
     },
     "execution_count": 9,
     "metadata": {},
     "output_type": "execute_result"
    }
   ],
   "source": [
    "session.query(Address.id, Address.street1).all()"
   ]
  },
  {
   "cell_type": "code",
   "execution_count": 10,
   "metadata": {},
   "outputs": [
    {
     "name": "stdout",
     "output_type": "stream",
     "text": [
      "2019-06-30 01:28:29,450 INFO sqlalchemy.engine.base.Engine INSERT INTO venue (address_id, name, closed, inserted) VALUES (?, ?, ?, ?)\n",
      "2019-06-30 01:28:29,453 INFO sqlalchemy.engine.base.Engine (1, 'Parish', 0, '2019-06-30 01:28:29.433469')\n",
      "2019-06-30 01:28:29,457 INFO sqlalchemy.engine.base.Engine INSERT INTO venue (address_id, name, closed, inserted) VALUES (?, ?, ?, ?)\n",
      "2019-06-30 01:28:29,460 INFO sqlalchemy.engine.base.Engine (2, 'Barracuda', 0, '2019-06-30 01:28:29.433469')\n",
      "2019-06-30 01:28:29,462 INFO sqlalchemy.engine.base.Engine INSERT INTO venue (address_id, name, closed, inserted) VALUES (?, ?, ?, ?)\n",
      "2019-06-30 01:28:29,464 INFO sqlalchemy.engine.base.Engine (2, 'Red 7', 1, '2019-06-30 01:28:29.433469')\n",
      "2019-06-30 01:28:29,465 INFO sqlalchemy.engine.base.Engine INSERT INTO venue (address_id, name, closed, inserted) VALUES (?, ?, ?, ?)\n",
      "2019-06-30 01:28:29,474 INFO sqlalchemy.engine.base.Engine (3, 'Empire Control Room and Garage', 0, '2019-06-30 01:28:29.433469')\n",
      "2019-06-30 01:28:29,482 INFO sqlalchemy.engine.base.Engine INSERT INTO venue (address_id, name, closed, inserted) VALUES (?, ?, ?, ?)\n",
      "2019-06-30 01:28:29,489 INFO sqlalchemy.engine.base.Engine (4, 'Elysium', 0, '2019-06-30 01:28:29.433469')\n",
      "2019-06-30 01:28:29,497 INFO sqlalchemy.engine.base.Engine INSERT INTO venue (address_id, name, closed, inserted) VALUES (?, ?, ?, ?)\n",
      "2019-06-30 01:28:29,501 INFO sqlalchemy.engine.base.Engine (12, \"Emo's\", 1, '2019-06-30 01:28:29.433469')\n",
      "2019-06-30 01:28:29,509 INFO sqlalchemy.engine.base.Engine INSERT INTO venue (address_id, name, closed, inserted) VALUES (?, ?, ?, ?)\n",
      "2019-06-30 01:28:29,510 INFO sqlalchemy.engine.base.Engine (5, \"Stubb's BBQ\", 0, '2019-06-30 01:28:29.433469')\n",
      "2019-06-30 01:28:29,514 INFO sqlalchemy.engine.base.Engine INSERT INTO venue (address_id, name, closed, inserted) VALUES (?, ?, ?, ?)\n",
      "2019-06-30 01:28:29,518 INFO sqlalchemy.engine.base.Engine (6, 'Cheer Up Charlies', 0, '2019-06-30 01:28:29.433469')\n",
      "2019-06-30 01:28:29,527 INFO sqlalchemy.engine.base.Engine INSERT INTO venue (address_id, name, closed, inserted) VALUES (?, ?, ?, ?)\n",
      "2019-06-30 01:28:29,533 INFO sqlalchemy.engine.base.Engine (7, 'Mohawk', 0, '2019-06-30 01:28:29.433469')\n",
      "2019-06-30 01:28:29,539 INFO sqlalchemy.engine.base.Engine INSERT INTO venue (address_id, name, closed, inserted) VALUES (?, ?, ?, ?)\n",
      "2019-06-30 01:28:29,544 INFO sqlalchemy.engine.base.Engine (8, \"Antone's\", 0, '2019-06-30 01:28:29.433469')\n",
      "2019-06-30 01:28:29,547 INFO sqlalchemy.engine.base.Engine INSERT INTO venue (address_id, name, closed, inserted) VALUES (?, ?, ?, ?)\n",
      "2019-06-30 01:28:29,556 INFO sqlalchemy.engine.base.Engine (9, 'La Zona Rosa', 1, '2019-06-30 01:28:29.433469')\n",
      "2019-06-30 01:28:29,558 INFO sqlalchemy.engine.base.Engine INSERT INTO venue (address_id, name, closed, inserted) VALUES (?, ?, ?, ?)\n",
      "2019-06-30 01:28:29,560 INFO sqlalchemy.engine.base.Engine (10, 'Continental Club', 0, '2019-06-30 01:28:29.433469')\n",
      "2019-06-30 01:28:29,563 INFO sqlalchemy.engine.base.Engine INSERT INTO venue (address_id, name, closed, inserted) VALUES (?, ?, ?, ?)\n",
      "2019-06-30 01:28:29,566 INFO sqlalchemy.engine.base.Engine (11, \"Emo's\", 0, '2019-06-30 01:28:29.433469')\n",
      "2019-06-30 01:28:29,572 INFO sqlalchemy.engine.base.Engine INSERT INTO venue (address_id, name, closed, inserted) VALUES (?, ?, ?, ?)\n",
      "2019-06-30 01:28:29,574 INFO sqlalchemy.engine.base.Engine (13, 'Liberty Lunch', 1, '2019-06-30 01:28:29.433469')\n",
      "2019-06-30 01:28:29,576 INFO sqlalchemy.engine.base.Engine INSERT INTO venue (address_id, name, closed, inserted) VALUES (?, ?, ?, ?)\n",
      "2019-06-30 01:28:29,577 INFO sqlalchemy.engine.base.Engine (14, \"Antone's\", 1, '2019-06-30 01:28:29.433469')\n",
      "2019-06-30 01:28:29,579 INFO sqlalchemy.engine.base.Engine COMMIT\n"
     ]
    }
   ],
   "source": [
    "now = datetime.datetime.now()\n",
    "venues = [\n",
    "    Venue(address_id=1, name='Parish', inserted=now),\n",
    "    Venue(address_id=2, name='Barracuda', inserted=now),\n",
    "    Venue(address_id=2, name='Red 7', closed=True, inserted=now),\n",
    "    Venue(address_id=3, name='Empire Control Room and Garage', inserted=now),\n",
    "    Venue(address_id=4, name='Elysium', inserted=now),\n",
    "    Venue(address_id=12, name=\"Emo's\", closed=True, inserted=now),\n",
    "    Venue(address_id=5, name=\"Stubb's BBQ\", inserted=now),\n",
    "    Venue(address_id=6, name=\"Cheer Up Charlies\", inserted=now),\n",
    "    Venue(address_id=7, name='Mohawk', inserted=now),\n",
    "    Venue(address_id=8, name=\"Antone's\", inserted=now),\n",
    "    Venue(address_id=9, name='La Zona Rosa', closed=True, inserted=now),\n",
    "    Venue(address_id=10, name='Continental Club', inserted=now),\n",
    "    Venue(address_id=11, name=\"Emo's\", inserted=now),\n",
    "    Venue(address_id=13, name='Liberty Lunch', closed=True, inserted=now),\n",
    "    Venue(address_id=14, name=\"Antone's\", closed=True, inserted=now),\n",
    "]\n",
    "session.add_all(venues)\n",
    "session.commit()"
   ]
  },
  {
   "cell_type": "code",
   "execution_count": 11,
   "metadata": {},
   "outputs": [
    {
     "name": "stdout",
     "output_type": "stream",
     "text": [
      "2019-06-30 01:29:26,639 INFO sqlalchemy.engine.base.Engine BEGIN (implicit)\n",
      "2019-06-30 01:29:26,644 INFO sqlalchemy.engine.base.Engine SELECT venue.id AS venue_id, venue.address_id AS venue_address_id, venue.name AS venue_name, venue.closed AS venue_closed, venue.inserted AS venue_inserted \n",
      "FROM venue JOIN address ON address.id = venue.address_id \n",
      "WHERE venue.name = ?\n",
      "2019-06-30 01:29:26,647 INFO sqlalchemy.engine.base.Engine (\"Antone's\",)\n"
     ]
    },
    {
     "data": {
      "text/plain": [
       "[<__main__.Venue at 0x7f05ed3cf710>, <__main__.Venue at 0x7f05ed456eb8>]"
      ]
     },
     "execution_count": 11,
     "metadata": {},
     "output_type": "execute_result"
    }
   ],
   "source": [
    "session.query(Venue).join(Address).filter(Venue.name == \"Antone's\").all()"
   ]
  }
 ],
 "metadata": {
  "kernelspec": {
   "display_name": "Python 3",
   "language": "python",
   "name": "python3"
  },
  "language_info": {
   "codemirror_mode": {
    "name": "ipython",
    "version": 3
   },
   "file_extension": ".py",
   "mimetype": "text/x-python",
   "name": "python",
   "nbconvert_exporter": "python",
   "pygments_lexer": "ipython3",
   "version": "3.7.3"
  }
 },
 "nbformat": 4,
 "nbformat_minor": 2
}
